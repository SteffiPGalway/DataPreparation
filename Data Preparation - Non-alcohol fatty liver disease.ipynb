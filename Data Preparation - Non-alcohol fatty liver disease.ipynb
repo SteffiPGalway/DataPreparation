{
 "cells": [
  {
   "cell_type": "markdown",
   "id": "b84ce577",
   "metadata": {},
   "source": [
    "# Data Preparation - Non-Alcohol Fatty Liver Disease"
   ]
  },
  {
   "cell_type": "markdown",
   "id": "6558cfc9",
   "metadata": {},
   "source": [
    "## A. Introduction"
   ]
  },
  {
   "cell_type": "markdown",
   "id": "5c1c8c3c",
   "metadata": {},
   "source": [
    "In the exploration of the *NAFLD* dataset, we discovered a few issues, which need to be resolved before the dataset is ready for machine learning. \n",
    "\n",
    "- There are missing values in the columns `weight`, `height`, and `bmi`. We can estimate these values depending on the number of missing values and the expected importance of the column.\n",
    "- We observed that `weight`, `height`, and `bmi` have extreme values at either end. Although they might make intuitive sense, they should be treated appropriately."
   ]
  },
  {
   "cell_type": "markdown",
   "id": "6ceb1e9d",
   "metadata": {},
   "source": [
    "## B. Importing Libraries & Dataset"
   ]
  },
  {
   "cell_type": "code",
   "execution_count": 1,
   "id": "5f280103",
   "metadata": {},
   "outputs": [],
   "source": [
    "import matplotlib.pyplot as plt\n",
    "import pandas as pd\n",
    "import numpy as np\n",
    "%matplotlib inline"
   ]
  },
  {
   "cell_type": "code",
   "execution_count": 2,
   "id": "1241be44",
   "metadata": {},
   "outputs": [],
   "source": [
    "df = pd.read_csv(\"Desktop/archive/nafld1.csv\")"
   ]
  },
  {
   "cell_type": "code",
   "execution_count": 3,
   "id": "8e0a2d69",
   "metadata": {},
   "outputs": [
    {
     "data": {
      "text/plain": [
       "Unnamed: 0       0\n",
       "id               0\n",
       "age              0\n",
       "male             0\n",
       "weight        4786\n",
       "height        3168\n",
       "bmi           4961\n",
       "case.id         31\n",
       "futime           0\n",
       "status           0\n",
       "dtype: int64"
      ]
     },
     "execution_count": 3,
     "metadata": {},
     "output_type": "execute_result"
    }
   ],
   "source": [
    "df.isna().sum()"
   ]
  },
  {
   "cell_type": "markdown",
   "id": "463ca59e",
   "metadata": {},
   "source": [
    "Before we start transforming the dataset let's make a copy of it."
   ]
  },
  {
   "cell_type": "code",
   "execution_count": 4,
   "id": "ba6b3621",
   "metadata": {},
   "outputs": [],
   "source": [
    "df_original = df"
   ]
  },
  {
   "cell_type": "markdown",
   "id": "85def39a",
   "metadata": {},
   "source": [
    "Columns with ID numbers are unlikely to contain useful information. We decided to drop it."
   ]
  },
  {
   "cell_type": "code",
   "execution_count": 5,
   "id": "08c014c5",
   "metadata": {},
   "outputs": [
    {
     "data": {
      "text/html": [
       "<div>\n",
       "<style scoped>\n",
       "    .dataframe tbody tr th:only-of-type {\n",
       "        vertical-align: middle;\n",
       "    }\n",
       "\n",
       "    .dataframe tbody tr th {\n",
       "        vertical-align: top;\n",
       "    }\n",
       "\n",
       "    .dataframe thead th {\n",
       "        text-align: right;\n",
       "    }\n",
       "</style>\n",
       "<table border=\"1\" class=\"dataframe\">\n",
       "  <thead>\n",
       "    <tr style=\"text-align: right;\">\n",
       "      <th></th>\n",
       "      <th>Unnamed: 0</th>\n",
       "      <th>age</th>\n",
       "      <th>male</th>\n",
       "      <th>weight</th>\n",
       "      <th>height</th>\n",
       "      <th>bmi</th>\n",
       "      <th>case.id</th>\n",
       "      <th>futime</th>\n",
       "      <th>status</th>\n",
       "    </tr>\n",
       "  </thead>\n",
       "  <tbody>\n",
       "    <tr>\n",
       "      <th>17544</th>\n",
       "      <td>11130</td>\n",
       "      <td>46</td>\n",
       "      <td>0</td>\n",
       "      <td>53.0</td>\n",
       "      <td>161.0</td>\n",
       "      <td>20.501023</td>\n",
       "      <td>12713.0</td>\n",
       "      <td>1894</td>\n",
       "      <td>0</td>\n",
       "    </tr>\n",
       "    <tr>\n",
       "      <th>17545</th>\n",
       "      <td>1099</td>\n",
       "      <td>52</td>\n",
       "      <td>1</td>\n",
       "      <td>111.8</td>\n",
       "      <td>154.0</td>\n",
       "      <td>47.335905</td>\n",
       "      <td>17563.0</td>\n",
       "      <td>3841</td>\n",
       "      <td>0</td>\n",
       "    </tr>\n",
       "    <tr>\n",
       "      <th>17546</th>\n",
       "      <td>1522</td>\n",
       "      <td>59</td>\n",
       "      <td>0</td>\n",
       "      <td>57.3</td>\n",
       "      <td>NaN</td>\n",
       "      <td>NaN</td>\n",
       "      <td>16164.0</td>\n",
       "      <td>5081</td>\n",
       "      <td>0</td>\n",
       "    </tr>\n",
       "    <tr>\n",
       "      <th>17547</th>\n",
       "      <td>5764</td>\n",
       "      <td>61</td>\n",
       "      <td>0</td>\n",
       "      <td>NaN</td>\n",
       "      <td>NaN</td>\n",
       "      <td>NaN</td>\n",
       "      <td>17276.0</td>\n",
       "      <td>3627</td>\n",
       "      <td>1</td>\n",
       "    </tr>\n",
       "    <tr>\n",
       "      <th>17548</th>\n",
       "      <td>6658</td>\n",
       "      <td>69</td>\n",
       "      <td>1</td>\n",
       "      <td>94.1</td>\n",
       "      <td>180.0</td>\n",
       "      <td>29.204650</td>\n",
       "      <td>2017.0</td>\n",
       "      <td>2744</td>\n",
       "      <td>0</td>\n",
       "    </tr>\n",
       "  </tbody>\n",
       "</table>\n",
       "</div>"
      ],
      "text/plain": [
       "       Unnamed: 0  age  male  weight  height        bmi  case.id  futime  \\\n",
       "17544       11130   46     0    53.0   161.0  20.501023  12713.0    1894   \n",
       "17545        1099   52     1   111.8   154.0  47.335905  17563.0    3841   \n",
       "17546        1522   59     0    57.3     NaN        NaN  16164.0    5081   \n",
       "17547        5764   61     0     NaN     NaN        NaN  17276.0    3627   \n",
       "17548        6658   69     1    94.1   180.0  29.204650   2017.0    2744   \n",
       "\n",
       "       status  \n",
       "17544       0  \n",
       "17545       0  \n",
       "17546       0  \n",
       "17547       1  \n",
       "17548       0  "
      ]
     },
     "execution_count": 5,
     "metadata": {},
     "output_type": "execute_result"
    }
   ],
   "source": [
    "df.drop('id', axis=1, inplace=True)\n",
    "df.tail()"
   ]
  },
  {
   "cell_type": "code",
   "execution_count": 6,
   "id": "9688b343",
   "metadata": {},
   "outputs": [
    {
     "data": {
      "text/html": [
       "<div>\n",
       "<style scoped>\n",
       "    .dataframe tbody tr th:only-of-type {\n",
       "        vertical-align: middle;\n",
       "    }\n",
       "\n",
       "    .dataframe tbody tr th {\n",
       "        vertical-align: top;\n",
       "    }\n",
       "\n",
       "    .dataframe thead th {\n",
       "        text-align: right;\n",
       "    }\n",
       "</style>\n",
       "<table border=\"1\" class=\"dataframe\">\n",
       "  <thead>\n",
       "    <tr style=\"text-align: right;\">\n",
       "      <th></th>\n",
       "      <th>Unnamed: 0</th>\n",
       "      <th>age</th>\n",
       "      <th>male</th>\n",
       "      <th>weight</th>\n",
       "      <th>height</th>\n",
       "      <th>bmi</th>\n",
       "      <th>futime</th>\n",
       "      <th>status</th>\n",
       "    </tr>\n",
       "  </thead>\n",
       "  <tbody>\n",
       "    <tr>\n",
       "      <th>17544</th>\n",
       "      <td>11130</td>\n",
       "      <td>46</td>\n",
       "      <td>0</td>\n",
       "      <td>53.0</td>\n",
       "      <td>161.0</td>\n",
       "      <td>20.501023</td>\n",
       "      <td>1894</td>\n",
       "      <td>0</td>\n",
       "    </tr>\n",
       "    <tr>\n",
       "      <th>17545</th>\n",
       "      <td>1099</td>\n",
       "      <td>52</td>\n",
       "      <td>1</td>\n",
       "      <td>111.8</td>\n",
       "      <td>154.0</td>\n",
       "      <td>47.335905</td>\n",
       "      <td>3841</td>\n",
       "      <td>0</td>\n",
       "    </tr>\n",
       "    <tr>\n",
       "      <th>17546</th>\n",
       "      <td>1522</td>\n",
       "      <td>59</td>\n",
       "      <td>0</td>\n",
       "      <td>57.3</td>\n",
       "      <td>NaN</td>\n",
       "      <td>NaN</td>\n",
       "      <td>5081</td>\n",
       "      <td>0</td>\n",
       "    </tr>\n",
       "    <tr>\n",
       "      <th>17547</th>\n",
       "      <td>5764</td>\n",
       "      <td>61</td>\n",
       "      <td>0</td>\n",
       "      <td>NaN</td>\n",
       "      <td>NaN</td>\n",
       "      <td>NaN</td>\n",
       "      <td>3627</td>\n",
       "      <td>1</td>\n",
       "    </tr>\n",
       "    <tr>\n",
       "      <th>17548</th>\n",
       "      <td>6658</td>\n",
       "      <td>69</td>\n",
       "      <td>1</td>\n",
       "      <td>94.1</td>\n",
       "      <td>180.0</td>\n",
       "      <td>29.204650</td>\n",
       "      <td>2744</td>\n",
       "      <td>0</td>\n",
       "    </tr>\n",
       "  </tbody>\n",
       "</table>\n",
       "</div>"
      ],
      "text/plain": [
       "       Unnamed: 0  age  male  weight  height        bmi  futime  status\n",
       "17544       11130   46     0    53.0   161.0  20.501023    1894       0\n",
       "17545        1099   52     1   111.8   154.0  47.335905    3841       0\n",
       "17546        1522   59     0    57.3     NaN        NaN    5081       0\n",
       "17547        5764   61     0     NaN     NaN        NaN    3627       1\n",
       "17548        6658   69     1    94.1   180.0  29.204650    2744       0"
      ]
     },
     "execution_count": 6,
     "metadata": {},
     "output_type": "execute_result"
    }
   ],
   "source": [
    "df.drop('case.id', axis=1, inplace=True)\n",
    "df.tail()"
   ]
  },
  {
   "cell_type": "code",
   "execution_count": 7,
   "id": "020062fd",
   "metadata": {
    "scrolled": true
   },
   "outputs": [
    {
     "data": {
      "text/html": [
       "<div>\n",
       "<style scoped>\n",
       "    .dataframe tbody tr th:only-of-type {\n",
       "        vertical-align: middle;\n",
       "    }\n",
       "\n",
       "    .dataframe tbody tr th {\n",
       "        vertical-align: top;\n",
       "    }\n",
       "\n",
       "    .dataframe thead th {\n",
       "        text-align: right;\n",
       "    }\n",
       "</style>\n",
       "<table border=\"1\" class=\"dataframe\">\n",
       "  <thead>\n",
       "    <tr style=\"text-align: right;\">\n",
       "      <th></th>\n",
       "      <th>age</th>\n",
       "      <th>male</th>\n",
       "      <th>weight</th>\n",
       "      <th>height</th>\n",
       "      <th>bmi</th>\n",
       "      <th>futime</th>\n",
       "      <th>status</th>\n",
       "    </tr>\n",
       "  </thead>\n",
       "  <tbody>\n",
       "    <tr>\n",
       "      <th>17544</th>\n",
       "      <td>46</td>\n",
       "      <td>0</td>\n",
       "      <td>53.0</td>\n",
       "      <td>161.0</td>\n",
       "      <td>20.501023</td>\n",
       "      <td>1894</td>\n",
       "      <td>0</td>\n",
       "    </tr>\n",
       "    <tr>\n",
       "      <th>17545</th>\n",
       "      <td>52</td>\n",
       "      <td>1</td>\n",
       "      <td>111.8</td>\n",
       "      <td>154.0</td>\n",
       "      <td>47.335905</td>\n",
       "      <td>3841</td>\n",
       "      <td>0</td>\n",
       "    </tr>\n",
       "    <tr>\n",
       "      <th>17546</th>\n",
       "      <td>59</td>\n",
       "      <td>0</td>\n",
       "      <td>57.3</td>\n",
       "      <td>NaN</td>\n",
       "      <td>NaN</td>\n",
       "      <td>5081</td>\n",
       "      <td>0</td>\n",
       "    </tr>\n",
       "    <tr>\n",
       "      <th>17547</th>\n",
       "      <td>61</td>\n",
       "      <td>0</td>\n",
       "      <td>NaN</td>\n",
       "      <td>NaN</td>\n",
       "      <td>NaN</td>\n",
       "      <td>3627</td>\n",
       "      <td>1</td>\n",
       "    </tr>\n",
       "    <tr>\n",
       "      <th>17548</th>\n",
       "      <td>69</td>\n",
       "      <td>1</td>\n",
       "      <td>94.1</td>\n",
       "      <td>180.0</td>\n",
       "      <td>29.204650</td>\n",
       "      <td>2744</td>\n",
       "      <td>0</td>\n",
       "    </tr>\n",
       "  </tbody>\n",
       "</table>\n",
       "</div>"
      ],
      "text/plain": [
       "       age  male  weight  height        bmi  futime  status\n",
       "17544   46     0    53.0   161.0  20.501023    1894       0\n",
       "17545   52     1   111.8   154.0  47.335905    3841       0\n",
       "17546   59     0    57.3     NaN        NaN    5081       0\n",
       "17547   61     0     NaN     NaN        NaN    3627       1\n",
       "17548   69     1    94.1   180.0  29.204650    2744       0"
      ]
     },
     "execution_count": 7,
     "metadata": {},
     "output_type": "execute_result"
    }
   ],
   "source": [
    "df.drop(columns=df.columns[0], axis=1, inplace=True)\n",
    "df.tail()"
   ]
  },
  {
   "cell_type": "code",
   "execution_count": 8,
   "id": "7f91cc80",
   "metadata": {},
   "outputs": [
    {
     "data": {
      "text/plain": [
       "age        0.000000\n",
       "male       0.000000\n",
       "weight    27.272209\n",
       "height    18.052311\n",
       "bmi       28.269417\n",
       "futime     0.000000\n",
       "status     0.000000\n",
       "dtype: float64"
      ]
     },
     "execution_count": 8,
     "metadata": {},
     "output_type": "execute_result"
    }
   ],
   "source": [
    "df.isnull().sum() / len(df) * 100"
   ]
  },
  {
   "cell_type": "markdown",
   "id": "1e68ac39",
   "metadata": {},
   "source": [
    "- Note that height has no more than 25% missing values. Thus, we do not need to consider dropping the column.\n",
    "- Even though weight and bmi have a little more than 25% missing values, we decised not to drop this column."
   ]
  },
  {
   "cell_type": "markdown",
   "id": "511778da",
   "metadata": {},
   "source": [
    "## C. Feature Engineering"
   ]
  },
  {
   "cell_type": "markdown",
   "id": "8d867a42",
   "metadata": {},
   "source": [
    "### Imputation of missing values"
   ]
  },
  {
   "cell_type": "markdown",
   "id": "b0056b34",
   "metadata": {},
   "source": [
    "It is often useful to impute missing values as many ML algorithms do not work with missing data. Even if they do, imputing these values often helps to build a more accurate predictive model."
   ]
  },
  {
   "cell_type": "markdown",
   "id": "a997a095",
   "metadata": {},
   "source": [
    "There are numerous ways to impute the missing values in a numerical column. The simplest being replacement by mean, which can be done with the following code.\n",
    "\n",
    "```python\n",
    "df['weight'].fillna(df['weight'].mean(), inplace=True)\n",
    "```\n",
    "Imputing missing values with the mean may introduce bias in the dataset. \n",
    "\n",
    "Let's take a simplified approach and fill in the missing values in these columns with the median. Note that the median is likely a better choice than the mean for these columns because the means are not likely to be realistic values."
   ]
  },
  {
   "cell_type": "code",
   "execution_count": 9,
   "id": "032c1935",
   "metadata": {},
   "outputs": [],
   "source": [
    "for col in df.columns:\n",
    "    if df[col].dtypes != 'object':\n",
    "        df[col].fillna(df[col].median(),inplace=True)\n",
    "    else:\n",
    "        df[col].fillna(df[col].mode()[0],inplace=True)"
   ]
  },
  {
   "cell_type": "markdown",
   "id": "f0b333a3",
   "metadata": {},
   "source": [
    "### Rescaling Featues"
   ]
  },
  {
   "cell_type": "markdown",
   "id": "b2c9a5bd",
   "metadata": {},
   "source": [
    "Many ML algorithms assume that all numerical features are on the same scale. Two standard techniques in the Python module `scikit-learn` for achieving this are:\n",
    "\n",
    "* MinMaxScaler - rescales a column to the interval [0,1]\n",
    "* StandardScaler - rescales a numerical column so that it has mean 0 and standard deviation 1.\n",
    "\n",
    "Here we use a third technique, called `RobustScaler` to `weight`, `height` and `bmi` which does a better job in the presence of outliers. `RobustScaler` transforms each value in a column by subtracting the median from it and then dividing by the interquartile range."
   ]
  },
  {
   "cell_type": "code",
   "execution_count": 10,
   "id": "094271c8",
   "metadata": {},
   "outputs": [],
   "source": [
    "from sklearn.preprocessing import StandardScaler, RobustScaler\n",
    "\n",
    "robust_scaler = RobustScaler()\n",
    "df[['weight',\n",
    "    'height', \n",
    "    'bmi']] = robust_scaler.fit_transform(df[['weight',\n",
    "                                              'height',\n",
    "                                              'bmi']])"
   ]
  },
  {
   "cell_type": "code",
   "execution_count": 11,
   "id": "e7ac1cab",
   "metadata": {},
   "outputs": [],
   "source": [
    "scaler = StandardScaler()\n",
    "df[['age',\n",
    "    'futime']] = scaler.fit_transform(df[['age',\n",
    "                                              'futime']])"
   ]
  },
  {
   "cell_type": "code",
   "execution_count": 12,
   "id": "eddc334c",
   "metadata": {},
   "outputs": [
    {
     "data": {
      "text/html": [
       "<div>\n",
       "<style scoped>\n",
       "    .dataframe tbody tr th:only-of-type {\n",
       "        vertical-align: middle;\n",
       "    }\n",
       "\n",
       "    .dataframe tbody tr th {\n",
       "        vertical-align: top;\n",
       "    }\n",
       "\n",
       "    .dataframe thead th {\n",
       "        text-align: right;\n",
       "    }\n",
       "</style>\n",
       "<table border=\"1\" class=\"dataframe\">\n",
       "  <thead>\n",
       "    <tr style=\"text-align: right;\">\n",
       "      <th></th>\n",
       "      <th>age</th>\n",
       "      <th>male</th>\n",
       "      <th>weight</th>\n",
       "      <th>height</th>\n",
       "      <th>bmi</th>\n",
       "      <th>futime</th>\n",
       "      <th>status</th>\n",
       "    </tr>\n",
       "  </thead>\n",
       "  <tbody>\n",
       "    <tr>\n",
       "      <th>0</th>\n",
       "      <td>0.294820</td>\n",
       "      <td>0</td>\n",
       "      <td>-1.381503</td>\n",
       "      <td>-0.545455</td>\n",
       "      <td>-1.229036</td>\n",
       "      <td>2.447849</td>\n",
       "      <td>0</td>\n",
       "    </tr>\n",
       "    <tr>\n",
       "      <th>1</th>\n",
       "      <td>0.974071</td>\n",
       "      <td>0</td>\n",
       "      <td>-0.780347</td>\n",
       "      <td>-0.090909</td>\n",
       "      <td>-0.793238</td>\n",
       "      <td>-1.135811</td>\n",
       "      <td>0</td>\n",
       "    </tr>\n",
       "    <tr>\n",
       "      <th>2</th>\n",
       "      <td>0.023119</td>\n",
       "      <td>1</td>\n",
       "      <td>1.265896</td>\n",
       "      <td>1.545455</td>\n",
       "      <td>0.313502</td>\n",
       "      <td>-0.398990</td>\n",
       "      <td>0</td>\n",
       "    </tr>\n",
       "    <tr>\n",
       "      <th>3</th>\n",
       "      <td>0.226894</td>\n",
       "      <td>1</td>\n",
       "      <td>1.468208</td>\n",
       "      <td>0.090909</td>\n",
       "      <td>1.779329</td>\n",
       "      <td>0.465615</td>\n",
       "      <td>0</td>\n",
       "    </tr>\n",
       "    <tr>\n",
       "      <th>4</th>\n",
       "      <td>1.041996</td>\n",
       "      <td>1</td>\n",
       "      <td>0.000000</td>\n",
       "      <td>0.000000</td>\n",
       "      <td>0.000000</td>\n",
       "      <td>-0.365296</td>\n",
       "      <td>1</td>\n",
       "    </tr>\n",
       "    <tr>\n",
       "      <th>...</th>\n",
       "      <td>...</td>\n",
       "      <td>...</td>\n",
       "      <td>...</td>\n",
       "      <td>...</td>\n",
       "      <td>...</td>\n",
       "      <td>...</td>\n",
       "      <td>...</td>\n",
       "    </tr>\n",
       "    <tr>\n",
       "      <th>17544</th>\n",
       "      <td>-0.452357</td>\n",
       "      <td>0</td>\n",
       "      <td>-1.786127</td>\n",
       "      <td>-0.727273</td>\n",
       "      <td>-1.664203</td>\n",
       "      <td>-0.328423</td>\n",
       "      <td>0</td>\n",
       "    </tr>\n",
       "    <tr>\n",
       "      <th>17545</th>\n",
       "      <td>-0.044806</td>\n",
       "      <td>1</td>\n",
       "      <td>1.612717</td>\n",
       "      <td>-1.363636</td>\n",
       "      <td>3.668267</td>\n",
       "      <td>0.909361</td>\n",
       "      <td>0</td>\n",
       "    </tr>\n",
       "    <tr>\n",
       "      <th>17546</th>\n",
       "      <td>0.430670</td>\n",
       "      <td>0</td>\n",
       "      <td>-1.537572</td>\n",
       "      <td>0.000000</td>\n",
       "      <td>0.000000</td>\n",
       "      <td>1.697677</td>\n",
       "      <td>0</td>\n",
       "    </tr>\n",
       "    <tr>\n",
       "      <th>17547</th>\n",
       "      <td>0.566520</td>\n",
       "      <td>0</td>\n",
       "      <td>0.000000</td>\n",
       "      <td>0.000000</td>\n",
       "      <td>0.000000</td>\n",
       "      <td>0.773312</td>\n",
       "      <td>1</td>\n",
       "    </tr>\n",
       "    <tr>\n",
       "      <th>17548</th>\n",
       "      <td>1.109921</td>\n",
       "      <td>1</td>\n",
       "      <td>0.589595</td>\n",
       "      <td>1.000000</td>\n",
       "      <td>0.065330</td>\n",
       "      <td>0.211955</td>\n",
       "      <td>0</td>\n",
       "    </tr>\n",
       "  </tbody>\n",
       "</table>\n",
       "<p>17549 rows × 7 columns</p>\n",
       "</div>"
      ],
      "text/plain": [
       "            age  male    weight    height       bmi    futime  status\n",
       "0      0.294820     0 -1.381503 -0.545455 -1.229036  2.447849       0\n",
       "1      0.974071     0 -0.780347 -0.090909 -0.793238 -1.135811       0\n",
       "2      0.023119     1  1.265896  1.545455  0.313502 -0.398990       0\n",
       "3      0.226894     1  1.468208  0.090909  1.779329  0.465615       0\n",
       "4      1.041996     1  0.000000  0.000000  0.000000 -0.365296       1\n",
       "...         ...   ...       ...       ...       ...       ...     ...\n",
       "17544 -0.452357     0 -1.786127 -0.727273 -1.664203 -0.328423       0\n",
       "17545 -0.044806     1  1.612717 -1.363636  3.668267  0.909361       0\n",
       "17546  0.430670     0 -1.537572  0.000000  0.000000  1.697677       0\n",
       "17547  0.566520     0  0.000000  0.000000  0.000000  0.773312       1\n",
       "17548  1.109921     1  0.589595  1.000000  0.065330  0.211955       0\n",
       "\n",
       "[17549 rows x 7 columns]"
      ]
     },
     "execution_count": 12,
     "metadata": {},
     "output_type": "execute_result"
    }
   ],
   "source": [
    "df"
   ]
  },
  {
   "cell_type": "markdown",
   "id": "2f901f3c",
   "metadata": {},
   "source": [
    "### Treatment of Outliers"
   ]
  },
  {
   "cell_type": "markdown",
   "id": "8aab5ac2",
   "metadata": {},
   "source": [
    "Let's also take a look at their histograms after we have rescaled them."
   ]
  },
  {
   "cell_type": "code",
   "execution_count": 13,
   "id": "b8b3ccb2",
   "metadata": {},
   "outputs": [
    {
     "data": {
      "image/png": "[encoded data removed]",
      "text/plain": [
       "<Figure size 1600x400 with 3 Axes>"
      ]
     },
     "metadata": {},
     "output_type": "display_data"
    }
   ],
   "source": [
    "# Create figure with two subplots\n",
    "fig = plt.figure(figsize=(16,4))\n",
    "\n",
    "# Plot weight\n",
    "weight = fig.add_subplot(2,2,1) # top left\n",
    "weight.set_title(\"Histogram of Weight\")\n",
    "weight.set_xlabel('weight')\n",
    "weight.set_ylabel('Number of Patients')\n",
    "df['weight'].hist(bins=20)\n",
    "\n",
    "# Plot height\n",
    "height = fig.add_subplot(2,2,2) # top right\n",
    "height.set_title(\"Histogram of Height\")\n",
    "height.set_xlabel('weight')                 \n",
    "height.set_ylabel('Number of Patients')\n",
    "df['height'].hist(bins=20)\n",
    "\n",
    "# Plot bmi\n",
    "bmi = fig.add_subplot(2,2,3) # bottom left\n",
    "bmi.set_title(\"Histogram of BMI\")\n",
    "bmi.set_xlabel('bmi')                 \n",
    "bmi.set_ylabel('Number of Patients')\n",
    "df['bmi'].hist(bins=20)\n",
    "\n",
    "plt.show()"
   ]
  },
  {
   "cell_type": "markdown",
   "id": "cb3453d1",
   "metadata": {},
   "source": [
    "Finally, before treating the outliers, let's find the minimum values in these columns."
   ]
  },
  {
   "cell_type": "code",
   "execution_count": 14,
   "id": "d9cccc8c",
   "metadata": {},
   "outputs": [
    {
     "data": {
      "text/plain": [
       "weight   -2.919075\n",
       "height   -4.181818\n",
       "bmi      -3.908419\n",
       "dtype: float64"
      ]
     },
     "execution_count": 14,
     "metadata": {},
     "output_type": "execute_result"
    }
   ],
   "source": [
    "df[['weight', 'height','bmi']].min()"
   ]
  },
  {
   "cell_type": "markdown",
   "id": "193df22c",
   "metadata": {},
   "source": [
    "Since the extreme values are practically possible in the three columns instead of ignoring the data rows with extreme values we can transform them to diminish the negative impact of outliers to ML models. A typical way to do this is to apply a log transformation. However, we do have negative values in both columns after rescaling and we need to add a constant to all values in order to shift them to a positive range before applying a log transformation. \n",
    "\n",
    "Here we are have chosen to shift the values to the interval $[1, +\\infty]$ before applying a log transformation."
   ]
  },
  {
   "cell_type": "code",
   "execution_count": 15,
   "id": "d6799a60",
   "metadata": {},
   "outputs": [],
   "source": [
    "# Use a log transformation to decrease the impact of outliers\n",
    "df['weight'] = np.log(df['weight']+3.92)\n",
    "df['height'] = np.log(df['height']+5.18)\n",
    "df['bmi'] = np.log(df['bmi']+4.91)"
   ]
  },
  {
   "cell_type": "markdown",
   "id": "328fd03a",
   "metadata": {},
   "source": [
    "Let's plot again."
   ]
  },
  {
   "cell_type": "code",
   "execution_count": 16,
   "id": "2e47b9ec",
   "metadata": {},
   "outputs": [
    {
     "data": {
      "image/png": "[encoded data removed]",
      "text/plain": [
       "<Figure size 1600x400 with 3 Axes>"
      ]
     },
     "metadata": {},
     "output_type": "display_data"
    }
   ],
   "source": [
    "# Create figure with two subplots\n",
    "fig = plt.figure(figsize=(16,4))\n",
    "\n",
    "# Plot weight\n",
    "weight = fig.add_subplot(2,2,1) # top left\n",
    "weight.set_title(\"Histogram of Weight\")\n",
    "weight.set_xlabel('weight')\n",
    "weight.set_ylabel('Number of Patients')\n",
    "df['weight'].hist(bins=20)\n",
    "\n",
    "# Plot height\n",
    "height = fig.add_subplot(2,2,2) # top right\n",
    "height.set_title(\"Histogram of Height\")\n",
    "height.set_xlabel('weight')                 \n",
    "height.set_ylabel('Number of Patients')\n",
    "df['height'].hist(bins=20)\n",
    "\n",
    "# Plot bmi\n",
    "bmi = fig.add_subplot(2,2,3) # bottom left\n",
    "bmi.set_title(\"Histogram of BMI\")\n",
    "bmi.set_xlabel('bmi')                 \n",
    "bmi.set_ylabel('Number of Patients')\n",
    "df['bmi'].hist(bins=20)\n",
    "\n",
    "plt.show()"
   ]
  },
  {
   "cell_type": "markdown",
   "id": "6b061295",
   "metadata": {},
   "source": [
    "## D. Save the Prepared Dataset"
   ]
  },
  {
   "cell_type": "markdown",
   "id": "5f0edfa3",
   "metadata": {},
   "source": [
    "Finally, let's save the prepared dataset as a CSV file."
   ]
  },
  {
   "cell_type": "code",
   "execution_count": 17,
   "id": "79335b49",
   "metadata": {},
   "outputs": [],
   "source": [
    "df.to_csv('nafld_prepared.csv')"
   ]
  }
 ],
 "metadata": {
  "kernelspec": {
   "display_name": "Python 3 (ipykernel)",
   "language": "python",
   "name": "python3"
  },
  "language_info": {
   "codemirror_mode": {
    "name": "ipython",
    "version": 3
   },
   "file_extension": ".py",
   "mimetype": "text/x-python",
   "name": "python",
   "nbconvert_exporter": "python",
   "pygments_lexer": "ipython3",
   "version": "3.7.13"
  }
 },
 "nbformat": 4,
 "nbformat_minor": 5
}
